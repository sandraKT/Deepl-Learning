{
  "nbformat": 4,
  "nbformat_minor": 0,
  "metadata": {
    "colab": {
      "name": "Lenah_muema_part1.ipynb",
      "provenance": [],
      "collapsed_sections": []
    },
    "kernelspec": {
      "name": "python3",
      "display_name": "Python 3"
    },
    "language_info": {
      "name": "python"
    }
  },
  "cells": [
    {
      "cell_type": "markdown",
      "source": [
        "# <center><h1 style=\"color:Blue;\"> **PROJECT DEEP LEARNING** </h1></center>"
      ],
      "metadata": {
        "id": "r6-71TTefQiv"
      }
    },
    {
      "cell_type": "markdown",
      "source": [
        "**Lecturer** : Pr Arnaud Zinflou\n",
        "\n",
        "**Student** : Sandra Marion Kam Tsemo"
      ],
      "metadata": {
        "id": "-gIJePPcwC3T"
      }
    },
    {
      "cell_type": "markdown",
      "source": [
        "## <center> **PROJECT 1 : Boston house price prediction** </center>\n",
        "\n",
        "<center> Topic : The objective of this project is to predict house prices. Your notebook will contain:\n",
        "\n",
        "*Importing and data processing*\n",
        "\n",
        "*Model training*\n",
        "\n",
        "*Validation*  \n",
        "<center>"
      ],
      "metadata": {
        "id": "Yjv7VofewFVO"
      }
    },
    {
      "cell_type": "markdown",
      "source": [
        "**Import  Libraries** "
      ],
      "metadata": {
        "id": "vRmPrkdW3AG7"
      }
    },
    {
      "cell_type": "code",
      "source": [
        "import tensorflow as tf\n",
        "from tensorflow import keras\n",
        "import numpy as np\n",
        "import pandas as pd\n",
        "from sklearn.datasets import load_boston\n",
        "import matplotlib.pyplot as plt\n",
        "%matplotlib inline"
      ],
      "metadata": {
        "id": "21vB-of-irMB"
      },
      "execution_count": 1,
      "outputs": []
    },
    {
      "cell_type": "markdown",
      "source": [
        "**Load the boston_housing data**"
      ],
      "metadata": {
        "id": "f5ybyMu720kI"
      }
    },
    {
      "cell_type": "code",
      "source": [
        "boston_housing = keras.datasets.boston_housing\n",
        "(train_data, train_labels), (test_data, test_labels) = boston_housing.load_data()"
      ],
      "metadata": {
        "id": "3x5l95ZN2mja"
      },
      "execution_count": 3,
      "outputs": []
    },
    {
      "cell_type": "code",
      "source": [
        "print(f'Training data : {train_data.shape}')\n",
        "print(f'Test data : {test_data.shape}')\n",
        "print(f'Training sample : {train_data[0]}')\n",
        "print(f'Training target sample : {train_labels[0]}')"
      ],
      "metadata": {
        "colab": {
          "base_uri": "https://localhost:8080/"
        },
        "id": "lpj4Zxn2flz_",
        "outputId": "a349def8-ef89-436d-f646-09a66acc3068"
      },
      "execution_count": 4,
      "outputs": [
        {
          "output_type": "stream",
          "name": "stdout",
          "text": [
            "Training data : (404, 13)\n",
            "Test data : (102, 13)\n",
            "Training sample : [  1.23247   0.        8.14      0.        0.538     6.142    91.7\n",
            "   3.9769    4.      307.       21.      396.9      18.72   ]\n",
            "Training target sample : 15.2\n"
          ]
        }
      ]
    },
    {
      "cell_type": "markdown",
      "source": [
        "\n",
        "**Normalization of  data set**"
      ],
      "metadata": {
        "id": "8OTmYhtrh6DM"
      }
    },
    {
      "cell_type": "code",
      "source": [
        "mean=train_data.mean(axis=0)\n",
        "train_data=train_data-mean\n",
        "std=train_data.std(axis=0)\n",
        "train_data=train_data/std\n",
        "\n",
        "test_data=test_data-mean\n",
        "test_data=test_data/std"
      ],
      "metadata": {
        "id": "URJXj7HFiEsN"
      },
      "execution_count": 5,
      "outputs": []
    },
    {
      "cell_type": "code",
      "source": [
        "train_data"
      ],
      "metadata": {
        "colab": {
          "base_uri": "https://localhost:8080/"
        },
        "id": "DvXmAJ3jVuR0",
        "outputId": "5b5a4314-e4bc-407a-ca80-8d111162feb8"
      },
      "execution_count": 6,
      "outputs": [
        {
          "output_type": "execute_result",
          "data": {
            "text/plain": [
              "array([[-0.27224633, -0.48361547, -0.43576161, ...,  1.14850044,\n",
              "         0.44807713,  0.8252202 ],\n",
              "       [-0.40342651,  2.99178419, -1.33391162, ..., -1.71818909,\n",
              "         0.43190599, -1.32920239],\n",
              "       [ 0.1249402 , -0.48361547,  1.0283258 , ...,  0.78447637,\n",
              "         0.22061726, -1.30850006],\n",
              "       ...,\n",
              "       [-0.40202987,  0.99079651, -0.7415148 , ..., -0.71712291,\n",
              "         0.07943894, -0.67776904],\n",
              "       [-0.17292018, -0.48361547,  1.24588095, ..., -1.71818909,\n",
              "        -0.98764362,  0.42083466],\n",
              "       [-0.40422614,  2.04394792, -1.20161456, ..., -1.30866202,\n",
              "         0.23317118, -1.15392266]])"
            ]
          },
          "metadata": {},
          "execution_count": 6
        }
      ]
    },
    {
      "cell_type": "code",
      "source": [
        "test_data"
      ],
      "metadata": {
        "id": "OIehjShgzgyP",
        "outputId": "e645e5be-2062-4bcf-8051-f16993b72b3d",
        "colab": {
          "base_uri": "https://localhost:8080/"
        }
      },
      "execution_count": 7,
      "outputs": [
        {
          "output_type": "execute_result",
          "data": {
            "text/plain": [
              "array([[ 1.55369355, -0.48361547,  1.0283258 , ...,  0.78447637,\n",
              "        -3.48459553,  2.25092074],\n",
              "       [-0.39242675, -0.48361547, -0.16087773, ..., -0.30759583,\n",
              "         0.42733126,  0.47880119],\n",
              "       [-0.39982927, -0.48361547, -0.86940196, ...,  0.78447637,\n",
              "         0.44807713, -0.41415936],\n",
              "       ...,\n",
              "       [-0.20709507, -0.48361547,  1.24588095, ..., -1.71818909,\n",
              "         0.37051949, -1.49344089],\n",
              "       [-0.36698601, -0.48361547, -0.72093526, ..., -0.48960787,\n",
              "         0.39275481, -0.41829982],\n",
              "       [-0.0889679 , -0.48361547,  1.24588095, ..., -1.71818909,\n",
              "        -1.21946544, -0.40449827]])"
            ]
          },
          "metadata": {},
          "execution_count": 7
        }
      ]
    },
    {
      "cell_type": "markdown",
      "source": [
        "**Build the model**\n",
        "\n",
        "Here we configure the layers of the model, then compile the model. First  few layers  are stack together using keras.Sequential. Next we configure the loss function, optimizer, and metrics to monitor which  are added during the model's compile step:\n",
        "\n",
        "    Loss function - measures how accurate the model is during training, we want to minimize this with the optimizer.\n",
        "    Optimizer - how the model is updated based on the data it sees and its loss function.\n",
        "    Metrics - used to monitor the training and testing steps.\n",
        "\n",
        "Let's build a network with 1 hidden layer of 45 neurons, and use mean squared error (MSE) as the loss function (most common one for regression problems)"
      ],
      "metadata": {
        "id": "ApSCua6pjcEW"
      }
    },
    {
      "cell_type": "code",
      "source": [
        "#from operator import add\n",
        "# create keras model and add the layers\n",
        "model = keras.Sequential()\n",
        "model.add(tf.keras.layers.Dense(45, activation='relu', input_dim = train_data.shape[1]))\n",
        "model.add(tf.keras.layers.Dense(45, activation='relu'))\n",
        "model.add(tf.keras.layers.Dense(1))\n",
        "# compile the model\n",
        "model.compile(optimizer=tf.keras.optimizers.Adam(learning_rate=1e-1),loss='mse',metrics=['mae','mse'])\n",
        "      \n"
      ],
      "metadata": {
        "id": "sunVFBX41gJQ"
      },
      "execution_count": 10,
      "outputs": []
    },
    {
      "cell_type": "markdown",
      "source": [
        "**Train Model**\n",
        "\n",
        "To start training, \n",
        "we call the model.fit method the model is *fit* to the training data:"
      ],
      "metadata": {
        "id": "oijtS90UkUcv"
      }
    },
    {
      "cell_type": "code",
      "source": [
        "history= model.fit(train_data, train_labels, validation_split=0.2,\n",
        "          batch_size=102,epochs=200)\n",
        "model.summary()\n"
      ],
      "metadata": {
        "colab": {
          "base_uri": "https://localhost:8080/"
        },
        "id": "0b4iAd2jfGuX",
        "outputId": "f271a3d6-7bb5-418b-8dcc-cf43ad2e56bc"
      },
      "execution_count": 11,
      "outputs": [
        {
          "output_type": "stream",
          "name": "stdout",
          "text": [
            "Epoch 1/200\n",
            "4/4 [==============================] - 1s 67ms/step - loss: 318.4698 - mae: 15.1498 - mse: 318.4698 - val_loss: 45.2720 - val_mae: 5.4609 - val_mse: 45.2720\n",
            "Epoch 2/200\n",
            "4/4 [==============================] - 0s 10ms/step - loss: 53.5893 - mae: 5.4180 - mse: 53.5893 - val_loss: 34.2307 - val_mae: 4.4009 - val_mse: 34.2307\n",
            "Epoch 3/200\n",
            "4/4 [==============================] - 0s 10ms/step - loss: 31.6206 - mae: 4.3446 - mse: 31.6206 - val_loss: 37.5679 - val_mae: 4.6395 - val_mse: 37.5679\n",
            "Epoch 4/200\n",
            "4/4 [==============================] - 0s 10ms/step - loss: 28.7223 - mae: 4.1759 - mse: 28.7223 - val_loss: 32.1516 - val_mae: 4.1053 - val_mse: 32.1516\n",
            "Epoch 5/200\n",
            "4/4 [==============================] - 0s 10ms/step - loss: 18.8526 - mae: 3.3052 - mse: 18.8526 - val_loss: 20.9644 - val_mae: 3.4079 - val_mse: 20.9644\n",
            "Epoch 6/200\n",
            "4/4 [==============================] - 0s 9ms/step - loss: 23.7030 - mae: 3.3859 - mse: 23.7030 - val_loss: 29.3534 - val_mae: 4.2365 - val_mse: 29.3534\n",
            "Epoch 7/200\n",
            "4/4 [==============================] - 0s 10ms/step - loss: 25.3570 - mae: 3.8114 - mse: 25.3570 - val_loss: 23.1065 - val_mae: 3.5469 - val_mse: 23.1065\n",
            "Epoch 8/200\n",
            "4/4 [==============================] - 0s 13ms/step - loss: 16.9079 - mae: 3.1127 - mse: 16.9079 - val_loss: 20.7146 - val_mae: 3.5148 - val_mse: 20.7146\n",
            "Epoch 9/200\n",
            "4/4 [==============================] - 0s 11ms/step - loss: 15.1639 - mae: 2.8043 - mse: 15.1639 - val_loss: 34.4980 - val_mae: 4.1323 - val_mse: 34.4980\n",
            "Epoch 10/200\n",
            "4/4 [==============================] - 0s 10ms/step - loss: 15.8276 - mae: 2.9678 - mse: 15.8276 - val_loss: 26.6697 - val_mae: 3.3203 - val_mse: 26.6697\n",
            "Epoch 11/200\n",
            "4/4 [==============================] - 0s 11ms/step - loss: 14.1716 - mae: 2.7647 - mse: 14.1716 - val_loss: 20.1833 - val_mae: 3.3213 - val_mse: 20.1833\n",
            "Epoch 12/200\n",
            "4/4 [==============================] - 0s 15ms/step - loss: 12.4405 - mae: 2.5227 - mse: 12.4405 - val_loss: 17.9515 - val_mae: 2.9183 - val_mse: 17.9515\n",
            "Epoch 13/200\n",
            "4/4 [==============================] - 0s 13ms/step - loss: 12.6024 - mae: 2.6007 - mse: 12.6024 - val_loss: 32.6355 - val_mae: 3.8311 - val_mse: 32.6355\n",
            "Epoch 14/200\n",
            "4/4 [==============================] - 0s 10ms/step - loss: 14.3649 - mae: 2.8689 - mse: 14.3649 - val_loss: 34.7108 - val_mae: 4.9554 - val_mse: 34.7108\n",
            "Epoch 15/200\n",
            "4/4 [==============================] - 0s 10ms/step - loss: 19.0694 - mae: 3.3071 - mse: 19.0694 - val_loss: 19.5182 - val_mae: 2.9383 - val_mse: 19.5182\n",
            "Epoch 16/200\n",
            "4/4 [==============================] - 0s 10ms/step - loss: 15.3584 - mae: 2.8231 - mse: 15.3584 - val_loss: 22.0433 - val_mae: 3.0938 - val_mse: 22.0433\n",
            "Epoch 17/200\n",
            "4/4 [==============================] - 0s 10ms/step - loss: 11.9379 - mae: 2.6715 - mse: 11.9379 - val_loss: 17.2164 - val_mae: 3.1229 - val_mse: 17.2164\n",
            "Epoch 18/200\n",
            "4/4 [==============================] - 0s 9ms/step - loss: 11.8916 - mae: 2.4532 - mse: 11.8916 - val_loss: 20.2872 - val_mae: 3.1218 - val_mse: 20.2872\n",
            "Epoch 19/200\n",
            "4/4 [==============================] - 0s 9ms/step - loss: 10.1496 - mae: 2.3818 - mse: 10.1496 - val_loss: 20.2046 - val_mae: 2.8214 - val_mse: 20.2046\n",
            "Epoch 20/200\n",
            "4/4 [==============================] - 0s 9ms/step - loss: 9.1287 - mae: 2.2048 - mse: 9.1287 - val_loss: 15.0409 - val_mae: 2.7038 - val_mse: 15.0409\n",
            "Epoch 21/200\n",
            "4/4 [==============================] - 0s 10ms/step - loss: 9.1287 - mae: 2.2149 - mse: 9.1287 - val_loss: 13.5457 - val_mae: 2.6425 - val_mse: 13.5457\n",
            "Epoch 22/200\n",
            "4/4 [==============================] - 0s 9ms/step - loss: 8.0028 - mae: 1.9761 - mse: 8.0028 - val_loss: 13.3907 - val_mae: 2.5746 - val_mse: 13.3907\n",
            "Epoch 23/200\n",
            "4/4 [==============================] - 0s 9ms/step - loss: 7.7869 - mae: 1.9627 - mse: 7.7869 - val_loss: 12.0852 - val_mae: 2.5834 - val_mse: 12.0852\n",
            "Epoch 24/200\n",
            "4/4 [==============================] - 0s 9ms/step - loss: 7.5609 - mae: 1.8778 - mse: 7.5609 - val_loss: 13.6210 - val_mae: 2.4512 - val_mse: 13.6210\n",
            "Epoch 25/200\n",
            "4/4 [==============================] - 0s 9ms/step - loss: 7.3264 - mae: 1.9157 - mse: 7.3264 - val_loss: 14.4526 - val_mae: 2.5908 - val_mse: 14.4526\n",
            "Epoch 26/200\n",
            "4/4 [==============================] - 0s 9ms/step - loss: 7.1112 - mae: 1.8379 - mse: 7.1112 - val_loss: 17.0714 - val_mae: 2.9208 - val_mse: 17.0714\n",
            "Epoch 27/200\n",
            "4/4 [==============================] - 0s 10ms/step - loss: 7.7100 - mae: 2.0654 - mse: 7.7100 - val_loss: 14.5975 - val_mae: 2.8830 - val_mse: 14.5975\n",
            "Epoch 28/200\n",
            "4/4 [==============================] - 0s 10ms/step - loss: 8.4846 - mae: 2.0637 - mse: 8.4846 - val_loss: 11.6003 - val_mae: 2.5145 - val_mse: 11.6003\n",
            "Epoch 29/200\n",
            "4/4 [==============================] - 0s 10ms/step - loss: 7.4534 - mae: 1.8846 - mse: 7.4534 - val_loss: 11.5856 - val_mae: 2.5623 - val_mse: 11.5856\n",
            "Epoch 30/200\n",
            "4/4 [==============================] - 0s 10ms/step - loss: 7.3959 - mae: 1.8390 - mse: 7.3959 - val_loss: 16.3568 - val_mae: 2.6053 - val_mse: 16.3568\n",
            "Epoch 31/200\n",
            "4/4 [==============================] - 0s 16ms/step - loss: 7.5786 - mae: 1.9887 - mse: 7.5786 - val_loss: 14.1853 - val_mae: 2.6457 - val_mse: 14.1853\n",
            "Epoch 32/200\n",
            "4/4 [==============================] - 0s 10ms/step - loss: 7.3158 - mae: 1.9965 - mse: 7.3158 - val_loss: 12.0858 - val_mae: 2.4871 - val_mse: 12.0858\n",
            "Epoch 33/200\n",
            "4/4 [==============================] - 0s 9ms/step - loss: 6.7271 - mae: 1.8028 - mse: 6.7271 - val_loss: 17.0684 - val_mae: 2.9547 - val_mse: 17.0684\n",
            "Epoch 34/200\n",
            "4/4 [==============================] - 0s 10ms/step - loss: 8.3191 - mae: 2.1953 - mse: 8.3191 - val_loss: 15.1911 - val_mae: 3.1319 - val_mse: 15.1911\n",
            "Epoch 35/200\n",
            "4/4 [==============================] - 0s 10ms/step - loss: 9.1167 - mae: 2.1541 - mse: 9.1167 - val_loss: 12.1841 - val_mae: 2.5067 - val_mse: 12.1841\n",
            "Epoch 36/200\n",
            "4/4 [==============================] - 0s 9ms/step - loss: 9.7949 - mae: 2.2122 - mse: 9.7949 - val_loss: 19.5497 - val_mae: 3.0757 - val_mse: 19.5497\n",
            "Epoch 37/200\n",
            "4/4 [==============================] - 0s 10ms/step - loss: 8.6594 - mae: 2.2434 - mse: 8.6594 - val_loss: 14.3412 - val_mae: 2.8627 - val_mse: 14.3412\n",
            "Epoch 38/200\n",
            "4/4 [==============================] - 0s 10ms/step - loss: 7.2999 - mae: 2.0637 - mse: 7.2999 - val_loss: 13.6754 - val_mae: 2.4288 - val_mse: 13.6754\n",
            "Epoch 39/200\n",
            "4/4 [==============================] - 0s 11ms/step - loss: 6.8293 - mae: 1.8939 - mse: 6.8293 - val_loss: 14.6085 - val_mae: 2.8195 - val_mse: 14.6085\n",
            "Epoch 40/200\n",
            "4/4 [==============================] - 0s 11ms/step - loss: 6.8852 - mae: 1.9027 - mse: 6.8852 - val_loss: 17.3842 - val_mae: 3.0732 - val_mse: 17.3842\n",
            "Epoch 41/200\n",
            "4/4 [==============================] - 0s 10ms/step - loss: 7.2083 - mae: 2.0436 - mse: 7.2083 - val_loss: 17.0911 - val_mae: 2.7139 - val_mse: 17.0911\n",
            "Epoch 42/200\n",
            "4/4 [==============================] - 0s 11ms/step - loss: 8.3876 - mae: 2.0148 - mse: 8.3876 - val_loss: 19.8535 - val_mae: 3.1240 - val_mse: 19.8535\n",
            "Epoch 43/200\n",
            "4/4 [==============================] - 0s 12ms/step - loss: 7.8657 - mae: 2.1198 - mse: 7.8657 - val_loss: 15.7294 - val_mae: 2.9324 - val_mse: 15.7294\n",
            "Epoch 44/200\n",
            "4/4 [==============================] - 0s 11ms/step - loss: 6.7718 - mae: 1.9560 - mse: 6.7718 - val_loss: 12.4400 - val_mae: 2.4659 - val_mse: 12.4400\n",
            "Epoch 45/200\n",
            "4/4 [==============================] - 0s 10ms/step - loss: 6.7068 - mae: 1.8253 - mse: 6.7068 - val_loss: 14.5525 - val_mae: 2.5055 - val_mse: 14.5525\n",
            "Epoch 46/200\n",
            "4/4 [==============================] - 0s 11ms/step - loss: 6.1720 - mae: 1.7953 - mse: 6.1720 - val_loss: 15.9715 - val_mae: 2.8336 - val_mse: 15.9715\n",
            "Epoch 47/200\n",
            "4/4 [==============================] - 0s 10ms/step - loss: 6.3839 - mae: 1.8524 - mse: 6.3839 - val_loss: 10.2054 - val_mae: 2.2759 - val_mse: 10.2054\n",
            "Epoch 48/200\n",
            "4/4 [==============================] - 0s 10ms/step - loss: 6.2708 - mae: 1.9334 - mse: 6.2708 - val_loss: 11.8983 - val_mae: 2.6432 - val_mse: 11.8983\n",
            "Epoch 49/200\n",
            "4/4 [==============================] - 0s 11ms/step - loss: 6.0337 - mae: 1.7569 - mse: 6.0337 - val_loss: 13.3246 - val_mae: 2.5315 - val_mse: 13.3246\n",
            "Epoch 50/200\n",
            "4/4 [==============================] - 0s 10ms/step - loss: 6.2817 - mae: 1.8163 - mse: 6.2817 - val_loss: 20.3778 - val_mae: 3.3544 - val_mse: 20.3778\n",
            "Epoch 51/200\n",
            "4/4 [==============================] - 0s 10ms/step - loss: 8.5857 - mae: 2.2994 - mse: 8.5857 - val_loss: 11.1488 - val_mae: 2.2795 - val_mse: 11.1488\n",
            "Epoch 52/200\n",
            "4/4 [==============================] - 0s 11ms/step - loss: 9.0961 - mae: 2.3131 - mse: 9.0961 - val_loss: 16.2687 - val_mae: 3.2338 - val_mse: 16.2687\n",
            "Epoch 53/200\n",
            "4/4 [==============================] - 0s 10ms/step - loss: 8.4681 - mae: 2.1641 - mse: 8.4681 - val_loss: 16.6812 - val_mae: 2.6918 - val_mse: 16.6812\n",
            "Epoch 54/200\n",
            "4/4 [==============================] - 0s 12ms/step - loss: 7.7583 - mae: 2.1603 - mse: 7.7583 - val_loss: 20.7232 - val_mae: 3.0796 - val_mse: 20.7232\n",
            "Epoch 55/200\n",
            "4/4 [==============================] - 0s 12ms/step - loss: 8.3924 - mae: 2.1253 - mse: 8.3924 - val_loss: 13.4080 - val_mae: 2.5860 - val_mse: 13.4080\n",
            "Epoch 56/200\n",
            "4/4 [==============================] - 0s 10ms/step - loss: 8.1005 - mae: 2.1488 - mse: 8.1005 - val_loss: 15.9379 - val_mae: 3.0862 - val_mse: 15.9379\n",
            "Epoch 57/200\n",
            "4/4 [==============================] - 0s 10ms/step - loss: 8.4812 - mae: 2.1831 - mse: 8.4812 - val_loss: 16.4012 - val_mae: 2.7011 - val_mse: 16.4012\n",
            "Epoch 58/200\n",
            "4/4 [==============================] - 0s 11ms/step - loss: 6.8844 - mae: 1.9733 - mse: 6.8844 - val_loss: 12.6061 - val_mae: 2.4934 - val_mse: 12.6061\n",
            "Epoch 59/200\n",
            "4/4 [==============================] - 0s 10ms/step - loss: 4.8865 - mae: 1.6160 - mse: 4.8865 - val_loss: 11.8286 - val_mae: 2.3944 - val_mse: 11.8286\n",
            "Epoch 60/200\n",
            "4/4 [==============================] - 0s 10ms/step - loss: 4.8498 - mae: 1.6006 - mse: 4.8498 - val_loss: 12.6230 - val_mae: 2.6647 - val_mse: 12.6230\n",
            "Epoch 61/200\n",
            "4/4 [==============================] - 0s 10ms/step - loss: 5.2065 - mae: 1.6818 - mse: 5.2065 - val_loss: 14.5819 - val_mae: 2.8210 - val_mse: 14.5819\n",
            "Epoch 62/200\n",
            "4/4 [==============================] - 0s 10ms/step - loss: 7.6127 - mae: 2.0235 - mse: 7.6127 - val_loss: 18.7619 - val_mae: 3.2129 - val_mse: 18.7619\n",
            "Epoch 63/200\n",
            "4/4 [==============================] - 0s 11ms/step - loss: 10.5407 - mae: 2.4393 - mse: 10.5407 - val_loss: 26.8246 - val_mae: 4.1026 - val_mse: 26.8246\n",
            "Epoch 64/200\n",
            "4/4 [==============================] - 0s 10ms/step - loss: 12.7184 - mae: 2.7975 - mse: 12.7184 - val_loss: 11.8018 - val_mae: 2.5399 - val_mse: 11.8018\n",
            "Epoch 65/200\n",
            "4/4 [==============================] - 0s 10ms/step - loss: 9.1794 - mae: 2.3084 - mse: 9.1794 - val_loss: 16.9868 - val_mae: 2.5557 - val_mse: 16.9868\n",
            "Epoch 66/200\n",
            "4/4 [==============================] - 0s 9ms/step - loss: 5.6871 - mae: 1.7787 - mse: 5.6871 - val_loss: 13.3607 - val_mae: 2.6501 - val_mse: 13.3607\n",
            "Epoch 67/200\n",
            "4/4 [==============================] - 0s 10ms/step - loss: 4.8223 - mae: 1.6499 - mse: 4.8223 - val_loss: 12.2676 - val_mae: 2.4373 - val_mse: 12.2676\n",
            "Epoch 68/200\n",
            "4/4 [==============================] - 0s 10ms/step - loss: 4.2657 - mae: 1.5202 - mse: 4.2657 - val_loss: 12.1096 - val_mae: 2.3921 - val_mse: 12.1096\n",
            "Epoch 69/200\n",
            "4/4 [==============================] - 0s 10ms/step - loss: 5.0839 - mae: 1.7206 - mse: 5.0839 - val_loss: 10.6628 - val_mae: 2.1979 - val_mse: 10.6628\n",
            "Epoch 70/200\n",
            "4/4 [==============================] - 0s 10ms/step - loss: 4.6347 - mae: 1.5576 - mse: 4.6347 - val_loss: 11.6288 - val_mae: 2.3751 - val_mse: 11.6288\n",
            "Epoch 71/200\n",
            "4/4 [==============================] - 0s 11ms/step - loss: 4.7597 - mae: 1.6069 - mse: 4.7597 - val_loss: 15.8537 - val_mae: 2.9124 - val_mse: 15.8537\n",
            "Epoch 72/200\n",
            "4/4 [==============================] - 0s 10ms/step - loss: 5.3674 - mae: 1.7306 - mse: 5.3674 - val_loss: 11.7910 - val_mae: 2.4236 - val_mse: 11.7910\n",
            "Epoch 73/200\n",
            "4/4 [==============================] - 0s 10ms/step - loss: 5.2787 - mae: 1.7028 - mse: 5.2787 - val_loss: 14.5080 - val_mae: 2.8276 - val_mse: 14.5080\n",
            "Epoch 74/200\n",
            "4/4 [==============================] - 0s 10ms/step - loss: 5.6303 - mae: 1.7872 - mse: 5.6303 - val_loss: 16.4554 - val_mae: 2.9770 - val_mse: 16.4554\n",
            "Epoch 75/200\n",
            "4/4 [==============================] - 0s 10ms/step - loss: 6.2214 - mae: 1.8806 - mse: 6.2214 - val_loss: 13.9649 - val_mae: 2.5516 - val_mse: 13.9649\n",
            "Epoch 76/200\n",
            "4/4 [==============================] - 0s 9ms/step - loss: 5.7057 - mae: 1.7888 - mse: 5.7057 - val_loss: 14.8629 - val_mae: 2.8193 - val_mse: 14.8629\n",
            "Epoch 77/200\n",
            "4/4 [==============================] - 0s 11ms/step - loss: 6.0845 - mae: 1.8087 - mse: 6.0845 - val_loss: 11.1220 - val_mae: 2.2355 - val_mse: 11.1220\n",
            "Epoch 78/200\n",
            "4/4 [==============================] - 0s 14ms/step - loss: 4.0241 - mae: 1.5619 - mse: 4.0241 - val_loss: 11.7902 - val_mae: 2.3548 - val_mse: 11.7902\n",
            "Epoch 79/200\n",
            "4/4 [==============================] - 0s 19ms/step - loss: 3.8254 - mae: 1.4417 - mse: 3.8254 - val_loss: 9.8959 - val_mae: 2.2184 - val_mse: 9.8959\n",
            "Epoch 80/200\n",
            "4/4 [==============================] - 0s 12ms/step - loss: 4.1999 - mae: 1.5542 - mse: 4.1999 - val_loss: 10.8926 - val_mae: 2.2617 - val_mse: 10.8926\n",
            "Epoch 81/200\n",
            "4/4 [==============================] - 0s 10ms/step - loss: 3.4288 - mae: 1.3691 - mse: 3.4288 - val_loss: 12.8446 - val_mae: 2.4455 - val_mse: 12.8446\n",
            "Epoch 82/200\n",
            "4/4 [==============================] - 0s 10ms/step - loss: 3.4741 - mae: 1.4065 - mse: 3.4741 - val_loss: 10.9281 - val_mae: 2.2507 - val_mse: 10.9281\n",
            "Epoch 83/200\n",
            "4/4 [==============================] - 0s 10ms/step - loss: 3.2186 - mae: 1.3276 - mse: 3.2186 - val_loss: 10.5679 - val_mae: 2.2290 - val_mse: 10.5679\n",
            "Epoch 84/200\n",
            "4/4 [==============================] - 0s 10ms/step - loss: 3.0445 - mae: 1.2856 - mse: 3.0445 - val_loss: 11.6685 - val_mae: 2.4369 - val_mse: 11.6685\n",
            "Epoch 85/200\n",
            "4/4 [==============================] - 0s 10ms/step - loss: 3.8695 - mae: 1.4476 - mse: 3.8695 - val_loss: 11.0566 - val_mae: 2.2137 - val_mse: 11.0566\n",
            "Epoch 86/200\n",
            "4/4 [==============================] - 0s 13ms/step - loss: 3.1731 - mae: 1.2938 - mse: 3.1731 - val_loss: 12.5819 - val_mae: 2.4694 - val_mse: 12.5819\n",
            "Epoch 87/200\n",
            "4/4 [==============================] - 0s 11ms/step - loss: 5.5798 - mae: 1.8027 - mse: 5.5798 - val_loss: 14.3136 - val_mae: 2.5568 - val_mse: 14.3136\n",
            "Epoch 88/200\n",
            "4/4 [==============================] - 0s 11ms/step - loss: 5.2831 - mae: 1.7986 - mse: 5.2831 - val_loss: 14.8441 - val_mae: 2.8330 - val_mse: 14.8441\n",
            "Epoch 89/200\n",
            "4/4 [==============================] - 0s 11ms/step - loss: 5.4503 - mae: 1.6904 - mse: 5.4503 - val_loss: 13.6566 - val_mae: 2.4808 - val_mse: 13.6566\n",
            "Epoch 90/200\n",
            "4/4 [==============================] - 0s 10ms/step - loss: 5.2615 - mae: 1.8055 - mse: 5.2615 - val_loss: 13.5938 - val_mae: 2.6223 - val_mse: 13.5938\n",
            "Epoch 91/200\n",
            "4/4 [==============================] - 0s 11ms/step - loss: 4.7431 - mae: 1.5977 - mse: 4.7431 - val_loss: 19.9844 - val_mae: 3.2559 - val_mse: 19.9844\n",
            "Epoch 92/200\n",
            "4/4 [==============================] - 0s 12ms/step - loss: 6.9714 - mae: 2.0636 - mse: 6.9714 - val_loss: 15.0671 - val_mae: 2.9013 - val_mse: 15.0671\n",
            "Epoch 93/200\n",
            "4/4 [==============================] - 0s 10ms/step - loss: 7.1470 - mae: 1.9386 - mse: 7.1470 - val_loss: 18.3536 - val_mae: 3.2612 - val_mse: 18.3536\n",
            "Epoch 94/200\n",
            "4/4 [==============================] - 0s 10ms/step - loss: 6.6231 - mae: 1.9265 - mse: 6.6231 - val_loss: 11.7266 - val_mae: 2.4341 - val_mse: 11.7266\n",
            "Epoch 95/200\n",
            "4/4 [==============================] - 0s 10ms/step - loss: 5.4259 - mae: 1.6189 - mse: 5.4259 - val_loss: 15.9449 - val_mae: 2.9374 - val_mse: 15.9449\n",
            "Epoch 96/200\n",
            "4/4 [==============================] - 0s 10ms/step - loss: 4.9407 - mae: 1.7142 - mse: 4.9407 - val_loss: 13.1824 - val_mae: 2.5554 - val_mse: 13.1824\n",
            "Epoch 97/200\n",
            "4/4 [==============================] - 0s 10ms/step - loss: 4.1110 - mae: 1.5051 - mse: 4.1110 - val_loss: 9.5678 - val_mae: 2.1306 - val_mse: 9.5678\n",
            "Epoch 98/200\n",
            "4/4 [==============================] - 0s 10ms/step - loss: 4.5189 - mae: 1.5959 - mse: 4.5189 - val_loss: 11.4892 - val_mae: 2.3459 - val_mse: 11.4892\n",
            "Epoch 99/200\n",
            "4/4 [==============================] - 0s 11ms/step - loss: 4.6056 - mae: 1.6561 - mse: 4.6056 - val_loss: 14.2779 - val_mae: 2.7564 - val_mse: 14.2779\n",
            "Epoch 100/200\n",
            "4/4 [==============================] - 0s 15ms/step - loss: 4.9488 - mae: 1.7068 - mse: 4.9488 - val_loss: 12.3822 - val_mae: 2.3339 - val_mse: 12.3822\n",
            "Epoch 101/200\n",
            "4/4 [==============================] - 0s 11ms/step - loss: 4.0540 - mae: 1.5488 - mse: 4.0540 - val_loss: 11.0436 - val_mae: 2.3288 - val_mse: 11.0436\n",
            "Epoch 102/200\n",
            "4/4 [==============================] - 0s 10ms/step - loss: 4.9566 - mae: 1.6083 - mse: 4.9566 - val_loss: 13.1508 - val_mae: 2.6278 - val_mse: 13.1508\n",
            "Epoch 103/200\n",
            "4/4 [==============================] - 0s 10ms/step - loss: 7.1521 - mae: 1.9646 - mse: 7.1521 - val_loss: 11.7558 - val_mae: 2.6700 - val_mse: 11.7558\n",
            "Epoch 104/200\n",
            "4/4 [==============================] - 0s 11ms/step - loss: 5.9178 - mae: 1.8324 - mse: 5.9178 - val_loss: 11.8849 - val_mae: 2.3770 - val_mse: 11.8849\n",
            "Epoch 105/200\n",
            "4/4 [==============================] - 0s 10ms/step - loss: 5.7213 - mae: 1.9152 - mse: 5.7213 - val_loss: 10.7915 - val_mae: 2.4514 - val_mse: 10.7915\n",
            "Epoch 106/200\n",
            "4/4 [==============================] - 0s 10ms/step - loss: 4.5878 - mae: 1.6175 - mse: 4.5878 - val_loss: 9.8330 - val_mae: 2.2346 - val_mse: 9.8330\n",
            "Epoch 107/200\n",
            "4/4 [==============================] - 0s 10ms/step - loss: 3.5912 - mae: 1.3980 - mse: 3.5912 - val_loss: 8.8644 - val_mae: 2.0900 - val_mse: 8.8644\n",
            "Epoch 108/200\n",
            "4/4 [==============================] - 0s 10ms/step - loss: 4.0644 - mae: 1.4105 - mse: 4.0644 - val_loss: 13.5063 - val_mae: 2.4967 - val_mse: 13.5063\n",
            "Epoch 109/200\n",
            "4/4 [==============================] - 0s 11ms/step - loss: 7.9137 - mae: 1.8404 - mse: 7.9137 - val_loss: 13.3795 - val_mae: 2.8937 - val_mse: 13.3795\n",
            "Epoch 110/200\n",
            "4/4 [==============================] - 0s 10ms/step - loss: 16.9087 - mae: 2.5658 - mse: 16.9087 - val_loss: 16.6552 - val_mae: 2.9356 - val_mse: 16.6552\n",
            "Epoch 111/200\n",
            "4/4 [==============================] - 0s 10ms/step - loss: 16.2869 - mae: 2.6999 - mse: 16.2869 - val_loss: 19.3653 - val_mae: 3.3225 - val_mse: 19.3653\n",
            "Epoch 112/200\n",
            "4/4 [==============================] - 0s 11ms/step - loss: 11.4740 - mae: 2.3150 - mse: 11.4740 - val_loss: 29.8385 - val_mae: 3.4738 - val_mse: 29.8385\n",
            "Epoch 113/200\n",
            "4/4 [==============================] - 0s 10ms/step - loss: 14.2364 - mae: 2.6301 - mse: 14.2364 - val_loss: 18.5314 - val_mae: 3.3884 - val_mse: 18.5314\n",
            "Epoch 114/200\n",
            "4/4 [==============================] - 0s 10ms/step - loss: 15.1598 - mae: 2.8719 - mse: 15.1598 - val_loss: 18.1098 - val_mae: 3.0669 - val_mse: 18.1098\n",
            "Epoch 115/200\n",
            "4/4 [==============================] - 0s 10ms/step - loss: 10.5345 - mae: 2.4438 - mse: 10.5345 - val_loss: 18.3343 - val_mae: 2.7894 - val_mse: 18.3343\n",
            "Epoch 116/200\n",
            "4/4 [==============================] - 0s 11ms/step - loss: 8.6400 - mae: 2.0411 - mse: 8.6400 - val_loss: 27.9699 - val_mae: 3.6753 - val_mse: 27.9699\n",
            "Epoch 117/200\n",
            "4/4 [==============================] - 0s 10ms/step - loss: 10.1041 - mae: 2.2681 - mse: 10.1041 - val_loss: 18.4728 - val_mae: 2.5713 - val_mse: 18.4728\n",
            "Epoch 118/200\n",
            "4/4 [==============================] - 0s 10ms/step - loss: 8.5585 - mae: 2.1926 - mse: 8.5585 - val_loss: 14.0988 - val_mae: 2.8145 - val_mse: 14.0988\n",
            "Epoch 119/200\n",
            "4/4 [==============================] - 0s 10ms/step - loss: 9.1726 - mae: 2.1546 - mse: 9.1726 - val_loss: 26.2107 - val_mae: 3.3525 - val_mse: 26.2107\n",
            "Epoch 120/200\n",
            "4/4 [==============================] - 0s 11ms/step - loss: 7.9333 - mae: 2.0392 - mse: 7.9333 - val_loss: 16.8109 - val_mae: 2.6742 - val_mse: 16.8109\n",
            "Epoch 121/200\n",
            "4/4 [==============================] - 0s 10ms/step - loss: 6.6952 - mae: 1.8899 - mse: 6.6952 - val_loss: 16.0921 - val_mae: 3.0878 - val_mse: 16.0921\n",
            "Epoch 122/200\n",
            "4/4 [==============================] - 0s 11ms/step - loss: 8.9327 - mae: 2.0941 - mse: 8.9327 - val_loss: 18.0783 - val_mae: 2.9469 - val_mse: 18.0783\n",
            "Epoch 123/200\n",
            "4/4 [==============================] - 0s 10ms/step - loss: 12.7379 - mae: 2.5654 - mse: 12.7379 - val_loss: 37.2321 - val_mae: 4.5919 - val_mse: 37.2321\n",
            "Epoch 124/200\n",
            "4/4 [==============================] - 0s 11ms/step - loss: 13.6045 - mae: 2.7981 - mse: 13.6045 - val_loss: 25.4613 - val_mae: 3.0102 - val_mse: 25.4613\n",
            "Epoch 125/200\n",
            "4/4 [==============================] - 0s 11ms/step - loss: 17.9982 - mae: 2.9973 - mse: 17.9982 - val_loss: 21.6858 - val_mae: 3.8812 - val_mse: 21.6858\n",
            "Epoch 126/200\n",
            "4/4 [==============================] - 0s 10ms/step - loss: 14.6810 - mae: 2.9957 - mse: 14.6810 - val_loss: 13.6828 - val_mae: 2.6601 - val_mse: 13.6828\n",
            "Epoch 127/200\n",
            "4/4 [==============================] - 0s 10ms/step - loss: 10.9384 - mae: 2.3515 - mse: 10.9384 - val_loss: 30.4493 - val_mae: 3.7512 - val_mse: 30.4493\n",
            "Epoch 128/200\n",
            "4/4 [==============================] - 0s 10ms/step - loss: 10.5774 - mae: 2.4338 - mse: 10.5774 - val_loss: 19.2434 - val_mae: 3.5770 - val_mse: 19.2434\n",
            "Epoch 129/200\n",
            "4/4 [==============================] - 0s 10ms/step - loss: 12.3890 - mae: 2.5626 - mse: 12.3890 - val_loss: 13.5465 - val_mae: 2.3724 - val_mse: 13.5465\n",
            "Epoch 130/200\n",
            "4/4 [==============================] - 0s 11ms/step - loss: 9.4145 - mae: 2.2428 - mse: 9.4145 - val_loss: 15.3232 - val_mae: 2.6184 - val_mse: 15.3232\n",
            "Epoch 131/200\n",
            "4/4 [==============================] - 0s 11ms/step - loss: 6.8086 - mae: 1.8644 - mse: 6.8086 - val_loss: 13.0015 - val_mae: 2.4685 - val_mse: 13.0015\n",
            "Epoch 132/200\n",
            "4/4 [==============================] - 0s 10ms/step - loss: 6.2587 - mae: 1.7936 - mse: 6.2587 - val_loss: 13.9028 - val_mae: 2.4059 - val_mse: 13.9028\n",
            "Epoch 133/200\n",
            "4/4 [==============================] - 0s 10ms/step - loss: 6.9349 - mae: 1.8452 - mse: 6.9349 - val_loss: 16.1845 - val_mae: 2.7956 - val_mse: 16.1845\n",
            "Epoch 134/200\n",
            "4/4 [==============================] - 0s 10ms/step - loss: 7.2435 - mae: 1.9052 - mse: 7.2435 - val_loss: 13.4548 - val_mae: 2.4734 - val_mse: 13.4548\n",
            "Epoch 135/200\n",
            "4/4 [==============================] - 0s 10ms/step - loss: 5.2513 - mae: 1.6391 - mse: 5.2513 - val_loss: 16.3344 - val_mae: 2.5862 - val_mse: 16.3344\n",
            "Epoch 136/200\n",
            "4/4 [==============================] - 0s 10ms/step - loss: 5.5915 - mae: 1.6070 - mse: 5.5915 - val_loss: 12.8548 - val_mae: 2.5622 - val_mse: 12.8548\n",
            "Epoch 137/200\n",
            "4/4 [==============================] - 0s 11ms/step - loss: 5.1417 - mae: 1.5559 - mse: 5.1417 - val_loss: 12.5724 - val_mae: 2.3819 - val_mse: 12.5724\n",
            "Epoch 138/200\n",
            "4/4 [==============================] - 0s 11ms/step - loss: 4.4835 - mae: 1.4596 - mse: 4.4835 - val_loss: 12.5595 - val_mae: 2.3978 - val_mse: 12.5595\n",
            "Epoch 139/200\n",
            "4/4 [==============================] - 0s 10ms/step - loss: 4.1307 - mae: 1.4090 - mse: 4.1307 - val_loss: 15.4927 - val_mae: 2.7532 - val_mse: 15.4927\n",
            "Epoch 140/200\n",
            "4/4 [==============================] - 0s 11ms/step - loss: 4.2830 - mae: 1.4837 - mse: 4.2830 - val_loss: 12.3200 - val_mae: 2.4257 - val_mse: 12.3200\n",
            "Epoch 141/200\n",
            "4/4 [==============================] - 0s 10ms/step - loss: 4.2432 - mae: 1.4589 - mse: 4.2432 - val_loss: 11.6719 - val_mae: 2.3752 - val_mse: 11.6719\n",
            "Epoch 142/200\n",
            "4/4 [==============================] - 0s 10ms/step - loss: 4.3586 - mae: 1.4660 - mse: 4.3586 - val_loss: 12.7647 - val_mae: 2.5307 - val_mse: 12.7647\n",
            "Epoch 143/200\n",
            "4/4 [==============================] - 0s 10ms/step - loss: 4.0076 - mae: 1.4072 - mse: 4.0076 - val_loss: 14.2067 - val_mae: 2.5635 - val_mse: 14.2067\n",
            "Epoch 144/200\n",
            "4/4 [==============================] - 0s 12ms/step - loss: 3.9483 - mae: 1.4366 - mse: 3.9483 - val_loss: 18.1214 - val_mae: 2.8905 - val_mse: 18.1214\n",
            "Epoch 145/200\n",
            "4/4 [==============================] - 0s 10ms/step - loss: 5.0359 - mae: 1.6781 - mse: 5.0359 - val_loss: 15.2381 - val_mae: 2.6980 - val_mse: 15.2381\n",
            "Epoch 146/200\n",
            "4/4 [==============================] - 0s 11ms/step - loss: 5.7184 - mae: 1.7037 - mse: 5.7184 - val_loss: 12.5620 - val_mae: 2.6020 - val_mse: 12.5620\n",
            "Epoch 147/200\n",
            "4/4 [==============================] - 0s 14ms/step - loss: 5.0481 - mae: 1.7009 - mse: 5.0481 - val_loss: 13.3918 - val_mae: 2.5522 - val_mse: 13.3918\n",
            "Epoch 148/200\n",
            "4/4 [==============================] - 0s 10ms/step - loss: 5.0694 - mae: 1.6902 - mse: 5.0694 - val_loss: 15.0380 - val_mae: 2.7378 - val_mse: 15.0380\n",
            "Epoch 149/200\n",
            "4/4 [==============================] - 0s 10ms/step - loss: 4.3265 - mae: 1.5273 - mse: 4.3265 - val_loss: 13.0269 - val_mae: 2.4497 - val_mse: 13.0269\n",
            "Epoch 150/200\n",
            "4/4 [==============================] - 0s 10ms/step - loss: 4.2686 - mae: 1.5110 - mse: 4.2686 - val_loss: 13.9089 - val_mae: 2.5058 - val_mse: 13.9089\n",
            "Epoch 151/200\n",
            "4/4 [==============================] - 0s 10ms/step - loss: 4.4892 - mae: 1.5135 - mse: 4.4892 - val_loss: 16.6383 - val_mae: 2.8421 - val_mse: 16.6383\n",
            "Epoch 152/200\n",
            "4/4 [==============================] - 0s 11ms/step - loss: 4.5816 - mae: 1.5889 - mse: 4.5816 - val_loss: 11.6262 - val_mae: 2.3575 - val_mse: 11.6262\n",
            "Epoch 153/200\n",
            "4/4 [==============================] - 0s 12ms/step - loss: 5.2013 - mae: 1.5877 - mse: 5.2013 - val_loss: 12.7266 - val_mae: 2.3956 - val_mse: 12.7266\n",
            "Epoch 154/200\n",
            "4/4 [==============================] - 0s 12ms/step - loss: 3.7507 - mae: 1.3946 - mse: 3.7507 - val_loss: 17.2182 - val_mae: 2.8020 - val_mse: 17.2182\n",
            "Epoch 155/200\n",
            "4/4 [==============================] - 0s 11ms/step - loss: 4.4214 - mae: 1.4851 - mse: 4.4214 - val_loss: 14.1157 - val_mae: 2.3287 - val_mse: 14.1157\n",
            "Epoch 156/200\n",
            "4/4 [==============================] - 0s 11ms/step - loss: 4.8308 - mae: 1.6677 - mse: 4.8308 - val_loss: 12.5393 - val_mae: 2.4458 - val_mse: 12.5393\n",
            "Epoch 157/200\n",
            "4/4 [==============================] - 0s 10ms/step - loss: 5.3610 - mae: 1.7006 - mse: 5.3610 - val_loss: 16.1018 - val_mae: 2.6963 - val_mse: 16.1018\n",
            "Epoch 158/200\n",
            "4/4 [==============================] - 0s 11ms/step - loss: 4.5417 - mae: 1.5657 - mse: 4.5417 - val_loss: 12.6483 - val_mae: 2.3097 - val_mse: 12.6483\n",
            "Epoch 159/200\n",
            "4/4 [==============================] - 0s 12ms/step - loss: 3.9774 - mae: 1.4018 - mse: 3.9774 - val_loss: 13.9718 - val_mae: 2.4036 - val_mse: 13.9718\n",
            "Epoch 160/200\n",
            "4/4 [==============================] - 0s 12ms/step - loss: 4.7018 - mae: 1.5701 - mse: 4.7018 - val_loss: 15.2323 - val_mae: 2.5310 - val_mse: 15.2323\n",
            "Epoch 161/200\n",
            "4/4 [==============================] - 0s 11ms/step - loss: 3.7784 - mae: 1.4444 - mse: 3.7784 - val_loss: 13.6715 - val_mae: 2.4365 - val_mse: 13.6715\n",
            "Epoch 162/200\n",
            "4/4 [==============================] - 0s 12ms/step - loss: 3.5793 - mae: 1.4073 - mse: 3.5793 - val_loss: 12.4516 - val_mae: 2.4397 - val_mse: 12.4516\n",
            "Epoch 163/200\n",
            "4/4 [==============================] - 0s 11ms/step - loss: 4.8762 - mae: 1.5872 - mse: 4.8762 - val_loss: 14.5501 - val_mae: 2.5508 - val_mse: 14.5501\n",
            "Epoch 164/200\n",
            "4/4 [==============================] - 0s 11ms/step - loss: 4.2636 - mae: 1.5922 - mse: 4.2636 - val_loss: 17.1505 - val_mae: 2.6435 - val_mse: 17.1505\n",
            "Epoch 165/200\n",
            "4/4 [==============================] - 0s 10ms/step - loss: 3.9773 - mae: 1.5089 - mse: 3.9773 - val_loss: 11.5708 - val_mae: 2.4224 - val_mse: 11.5708\n",
            "Epoch 166/200\n",
            "4/4 [==============================] - 0s 11ms/step - loss: 3.8104 - mae: 1.4608 - mse: 3.8104 - val_loss: 11.9010 - val_mae: 2.2428 - val_mse: 11.9010\n",
            "Epoch 167/200\n",
            "4/4 [==============================] - 0s 11ms/step - loss: 3.1491 - mae: 1.3388 - mse: 3.1491 - val_loss: 13.2841 - val_mae: 2.4334 - val_mse: 13.2841\n",
            "Epoch 168/200\n",
            "4/4 [==============================] - 0s 12ms/step - loss: 3.1335 - mae: 1.3000 - mse: 3.1335 - val_loss: 11.4356 - val_mae: 2.2522 - val_mse: 11.4356\n",
            "Epoch 169/200\n",
            "4/4 [==============================] - 0s 11ms/step - loss: 3.4774 - mae: 1.3787 - mse: 3.4774 - val_loss: 10.7327 - val_mae: 2.3081 - val_mse: 10.7327\n",
            "Epoch 170/200\n",
            "4/4 [==============================] - 0s 14ms/step - loss: 3.7056 - mae: 1.4583 - mse: 3.7056 - val_loss: 12.1699 - val_mae: 2.4483 - val_mse: 12.1699\n",
            "Epoch 171/200\n",
            "4/4 [==============================] - 0s 11ms/step - loss: 3.3558 - mae: 1.3317 - mse: 3.3558 - val_loss: 11.4182 - val_mae: 2.2781 - val_mse: 11.4182\n",
            "Epoch 172/200\n",
            "4/4 [==============================] - 0s 11ms/step - loss: 2.5898 - mae: 1.1656 - mse: 2.5898 - val_loss: 10.9343 - val_mae: 2.2274 - val_mse: 10.9343\n",
            "Epoch 173/200\n",
            "4/4 [==============================] - 0s 10ms/step - loss: 2.7419 - mae: 1.2280 - mse: 2.7419 - val_loss: 14.1504 - val_mae: 2.5305 - val_mse: 14.1504\n",
            "Epoch 174/200\n",
            "4/4 [==============================] - 0s 10ms/step - loss: 3.0643 - mae: 1.3145 - mse: 3.0643 - val_loss: 13.8262 - val_mae: 2.4243 - val_mse: 13.8262\n",
            "Epoch 175/200\n",
            "4/4 [==============================] - 0s 11ms/step - loss: 2.3463 - mae: 1.1539 - mse: 2.3463 - val_loss: 10.3989 - val_mae: 2.0974 - val_mse: 10.3989\n",
            "Epoch 176/200\n",
            "4/4 [==============================] - 0s 10ms/step - loss: 2.3648 - mae: 1.1602 - mse: 2.3648 - val_loss: 11.5573 - val_mae: 2.2158 - val_mse: 11.5573\n",
            "Epoch 177/200\n",
            "4/4 [==============================] - 0s 10ms/step - loss: 2.4787 - mae: 1.1778 - mse: 2.4787 - val_loss: 14.8527 - val_mae: 2.5331 - val_mse: 14.8527\n",
            "Epoch 178/200\n",
            "4/4 [==============================] - 0s 11ms/step - loss: 2.3607 - mae: 1.1775 - mse: 2.3607 - val_loss: 11.6417 - val_mae: 2.2699 - val_mse: 11.6417\n",
            "Epoch 179/200\n",
            "4/4 [==============================] - 0s 10ms/step - loss: 3.2928 - mae: 1.3762 - mse: 3.2928 - val_loss: 11.1162 - val_mae: 2.2694 - val_mse: 11.1162\n",
            "Epoch 180/200\n",
            "4/4 [==============================] - 0s 11ms/step - loss: 2.7610 - mae: 1.2014 - mse: 2.7610 - val_loss: 12.5237 - val_mae: 2.2586 - val_mse: 12.5237\n",
            "Epoch 181/200\n",
            "4/4 [==============================] - 0s 11ms/step - loss: 2.8802 - mae: 1.2524 - mse: 2.8802 - val_loss: 11.3686 - val_mae: 2.1941 - val_mse: 11.3686\n",
            "Epoch 182/200\n",
            "4/4 [==============================] - 0s 11ms/step - loss: 2.7321 - mae: 1.1909 - mse: 2.7321 - val_loss: 13.3246 - val_mae: 2.5826 - val_mse: 13.3246\n",
            "Epoch 183/200\n",
            "4/4 [==============================] - 0s 11ms/step - loss: 3.2436 - mae: 1.3930 - mse: 3.2436 - val_loss: 12.1700 - val_mae: 2.2509 - val_mse: 12.1700\n",
            "Epoch 184/200\n",
            "4/4 [==============================] - 0s 11ms/step - loss: 3.4033 - mae: 1.3762 - mse: 3.4033 - val_loss: 13.2639 - val_mae: 2.4356 - val_mse: 13.2639\n",
            "Epoch 185/200\n",
            "4/4 [==============================] - 0s 13ms/step - loss: 3.3232 - mae: 1.3347 - mse: 3.3232 - val_loss: 13.1372 - val_mae: 2.3898 - val_mse: 13.1372\n",
            "Epoch 186/200\n",
            "4/4 [==============================] - 0s 11ms/step - loss: 3.1426 - mae: 1.2945 - mse: 3.1426 - val_loss: 15.3017 - val_mae: 2.5870 - val_mse: 15.3017\n",
            "Epoch 187/200\n",
            "4/4 [==============================] - 0s 11ms/step - loss: 3.1860 - mae: 1.3598 - mse: 3.1860 - val_loss: 12.1306 - val_mae: 2.3541 - val_mse: 12.1306\n",
            "Epoch 188/200\n",
            "4/4 [==============================] - 0s 11ms/step - loss: 2.8650 - mae: 1.2867 - mse: 2.8650 - val_loss: 11.8438 - val_mae: 2.2801 - val_mse: 11.8438\n",
            "Epoch 189/200\n",
            "4/4 [==============================] - 0s 11ms/step - loss: 2.2047 - mae: 1.1118 - mse: 2.2047 - val_loss: 14.0026 - val_mae: 2.5032 - val_mse: 14.0026\n",
            "Epoch 190/200\n",
            "4/4 [==============================] - 0s 11ms/step - loss: 2.6173 - mae: 1.1800 - mse: 2.6173 - val_loss: 11.2105 - val_mae: 2.1699 - val_mse: 11.2105\n",
            "Epoch 191/200\n",
            "4/4 [==============================] - 0s 11ms/step - loss: 2.5331 - mae: 1.2182 - mse: 2.5331 - val_loss: 12.4578 - val_mae: 2.3916 - val_mse: 12.4578\n",
            "Epoch 192/200\n",
            "4/4 [==============================] - 0s 20ms/step - loss: 2.8933 - mae: 1.3074 - mse: 2.8933 - val_loss: 13.7750 - val_mae: 2.5380 - val_mse: 13.7750\n",
            "Epoch 193/200\n",
            "4/4 [==============================] - 0s 10ms/step - loss: 3.1130 - mae: 1.3501 - mse: 3.1130 - val_loss: 13.0099 - val_mae: 2.3134 - val_mse: 13.0099\n",
            "Epoch 194/200\n",
            "4/4 [==============================] - 0s 11ms/step - loss: 2.6871 - mae: 1.2797 - mse: 2.6871 - val_loss: 12.7941 - val_mae: 2.3528 - val_mse: 12.7941\n",
            "Epoch 195/200\n",
            "4/4 [==============================] - 0s 12ms/step - loss: 3.0346 - mae: 1.2890 - mse: 3.0346 - val_loss: 14.3883 - val_mae: 2.6722 - val_mse: 14.3883\n",
            "Epoch 196/200\n",
            "4/4 [==============================] - 0s 13ms/step - loss: 3.0806 - mae: 1.3314 - mse: 3.0806 - val_loss: 13.8407 - val_mae: 2.7904 - val_mse: 13.8407\n",
            "Epoch 197/200\n",
            "4/4 [==============================] - 0s 11ms/step - loss: 4.0871 - mae: 1.6050 - mse: 4.0871 - val_loss: 12.4773 - val_mae: 2.3602 - val_mse: 12.4773\n",
            "Epoch 198/200\n",
            "4/4 [==============================] - 0s 10ms/step - loss: 2.8937 - mae: 1.3208 - mse: 2.8937 - val_loss: 15.0195 - val_mae: 2.7840 - val_mse: 15.0195\n",
            "Epoch 199/200\n",
            "4/4 [==============================] - 0s 10ms/step - loss: 4.1113 - mae: 1.5968 - mse: 4.1113 - val_loss: 12.1406 - val_mae: 2.3191 - val_mse: 12.1406\n",
            "Epoch 200/200\n",
            "4/4 [==============================] - 0s 10ms/step - loss: 3.0921 - mae: 1.3294 - mse: 3.0921 - val_loss: 13.4049 - val_mae: 2.4588 - val_mse: 13.4049\n",
            "Model: \"sequential\"\n",
            "_________________________________________________________________\n",
            " Layer (type)                Output Shape              Param #   \n",
            "=================================================================\n",
            " dense (Dense)               (None, 45)                630       \n",
            "                                                                 \n",
            " dense_1 (Dense)             (None, 45)                2070      \n",
            "                                                                 \n",
            " dense_2 (Dense)             (None, 1)                 46        \n",
            "                                                                 \n",
            "=================================================================\n",
            "Total params: 2,746\n",
            "Trainable params: 2,746\n",
            "Non-trainable params: 0\n",
            "_________________________________________________________________\n"
          ]
        }
      ]
    },
    {
      "cell_type": "markdown",
      "source": [
        "**Evaluation of the model**\n",
        "      "
      ],
      "metadata": {
        "id": "yUvy2ZU905aT"
      }
    },
    {
      "cell_type": "code",
      "source": [
        "score=model.evaluate(test_data,test_labels,verbose=1)\n",
        "print(\"Test loss {}\".format(score[0]))\n",
        "print(\"Test mae {}\".format(score[1]))\n",
        "print(\"Test mse {}\".format(score[2]))"
      ],
      "metadata": {
        "id": "xgsO_pKX1KBx",
        "outputId": "a9eaf7ec-d406-401c-b745-86abcd1a9fe9",
        "colab": {
          "base_uri": "https://localhost:8080/"
        }
      },
      "execution_count": 13,
      "outputs": [
        {
          "output_type": "stream",
          "name": "stdout",
          "text": [
            "4/4 [==============================] - 0s 3ms/step - loss: 22.5119 - mae: 2.8278 - mse: 22.5119\n",
            "Test loss 22.511934280395508\n",
            "Test mae 2.8277623653411865\n",
            "Test mse 22.511934280395508\n"
          ]
        }
      ]
    },
    {
      "cell_type": "markdown",
      "source": [
        "**Plot the loss function measure on the training and validation sets**"
      ],
      "metadata": {
        "id": "TeHlpzVPyvE3"
      }
    },
    {
      "cell_type": "code",
      "source": [
        "figure = plt.gcf()\n",
        "figure.set_size_inches((15, 5))\n",
        "plt.title('Mean Absolute Error - Epoch Graphics')\n",
        "plt.xlabel('Epoch')\n",
        "plt.ylabel('Mean Absolute Error')\n",
        "plt.plot(range(1, len(history.history['mae']) + 1), history.history['mae'])\n",
        "plt.plot(range(1, len(history.history['val_mae']) + 1), history.history['val_mae'])\n",
        "plt.legend(['Train Error', 'Validation Error'])\n",
        "plt.show()"
      ],
      "metadata": {
        "colab": {
          "base_uri": "https://localhost:8080/",
          "height": 350
        },
        "id": "b3U4bXRi5SBr",
        "outputId": "25f126be-697f-4276-bfda-e99443d22734"
      },
      "execution_count": 14,
      "outputs": [
        {
          "output_type": "display_data",
          "data": {
            "image/png": "[encoded data removed]",
            "text/plain": [
              "<Figure size 1080x360 with 1 Axes>"
            ]
          },
          "metadata": {
            "needs_background": "light"
          }
        }
      ]
    },
    {
      "cell_type": "markdown",
      "source": [
        "**Observation** : Both the training and validation loss decrease in an exponential fashion as the number of epochs is increased,this shows that the model gains a high degree of accuracy as our epochs is increased."
      ],
      "metadata": {
        "id": "0qCHxwCsqxxA"
      }
    },
    {
      "cell_type": "code",
      "source": [
        "# testing the model with using evaluate method\n",
        "tess_loss = model.evaluate(test_data)\n",
        "test_mae = model.evaluate(test_data)\n",
        "#tess_loss,test_mae=model.evaluate(test_data,test_labels)"
      ],
      "metadata": {
        "colab": {
          "base_uri": "https://localhost:8080/"
        },
        "id": "LH75Cyk2qsF-",
        "outputId": "aba618f8-9897-428c-b67f-4018cc18e20d"
      },
      "execution_count": 18,
      "outputs": [
        {
          "output_type": "stream",
          "name": "stdout",
          "text": [
            "4/4 [==============================] - 0s 3ms/step - loss: 0.0000e+00 - mae: 0.0000e+00 - mse: 0.0000e+00\n",
            "4/4 [==============================] - 0s 3ms/step - loss: 0.0000e+00 - mae: 0.0000e+00 - mse: 0.0000e+00\n"
          ]
        }
      ]
    },
    {
      "cell_type": "markdown",
      "source": [
        "**Prediction**"
      ],
      "metadata": {
        "id": "mxTjTjiD2CqO"
      }
    },
    {
      "cell_type": "code",
      "source": [
        "data_predict = [1.26425925, -0.48522739, 1.0436589, -0.23112788, 1.37120745, -2.14308942, 1.13489104, -1.06802005, 1.71189006, 1.57042287, 0.77859951, 0.14769795, 2.7585581]\n",
        "real_price= 10.7\n",
        "\n",
        "data_predict = np.array(data_predict).reshape(1,13)\n",
        "data_predict.shape"
      ],
      "metadata": {
        "id": "4DbvE1SR2JjJ",
        "outputId": "fe612e1a-4851-4b2b-d058-d0c1cdda23f5",
        "colab": {
          "base_uri": "https://localhost:8080/"
        }
      },
      "execution_count": 20,
      "outputs": [
        {
          "output_type": "execute_result",
          "data": {
            "text/plain": [
              "(1, 13)"
            ]
          },
          "metadata": {},
          "execution_count": 20
        }
      ]
    },
    {
      "cell_type": "code",
      "source": [
        "predictions = model.predict(data_predict)\n",
        "\n",
        "print(\"The predicted value is {}\".format(predictions[0][0]))\n",
        "print(\"The actual value is {}\".format(real_price))"
      ],
      "metadata": {
        "id": "VeBogb5p2Mbu",
        "outputId": "5d4f119a-bea3-406b-9c04-e1dfc07f6894",
        "colab": {
          "base_uri": "https://localhost:8080/"
        }
      },
      "execution_count": 22,
      "outputs": [
        {
          "output_type": "stream",
          "name": "stdout",
          "text": [
            "The predicted value is 10.471783638000488\n",
            "The actual value is 10.7\n"
          ]
        }
      ]
    },
    {
      "cell_type": "markdown",
      "source": [
        "The End !"
      ],
      "metadata": {
        "id": "XgtTUCTr26dN"
      }
    }
  ]
}